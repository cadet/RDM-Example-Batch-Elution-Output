version https://git-lfs.github.com/spec/v1
oid sha256:6aa7af5fac3595bc55afd3cc495460d6d4b42caa369c2319b2a7ce4fb5299001
size 12324
